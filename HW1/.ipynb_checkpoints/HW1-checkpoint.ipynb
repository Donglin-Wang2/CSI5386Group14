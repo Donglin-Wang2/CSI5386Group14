{
 "cells": [
  {
   "cell_type": "code",
   "execution_count": 3,
   "metadata": {},
   "outputs": [],
   "source": [
    "import os\n",
    "from tqdm import tqdm\n",
    "import spacy\n",
    "from spacy.tokenizer import Tokenizer\n",
    "from spacy.lang.en import English\n",
    "from spacy.pipeline import Tagger\n",
    "\n"
   ]
  },
  {
   "cell_type": "code",
   "execution_count": 4,
   "metadata": {},
   "outputs": [
    {
     "name": "stdout",
     "output_type": "stream",
     "text": [
      "100000\n"
     ]
    },
    {
     "ename": "OSError",
     "evalue": "[E050] Can't find model 'en_core_web_sm'. It doesn't seem to be a Python package or a valid path to a data directory.",
     "output_type": "error",
     "traceback": [
      "\u001b[0;31m---------------------------------------------------------------------------\u001b[0m",
      "\u001b[0;31mOSError\u001b[0m                                   Traceback (most recent call last)",
      "\u001b[0;32m<ipython-input-4-8c8847a85451>\u001b[0m in \u001b[0;36m<module>\u001b[0;34m\u001b[0m\n\u001b[1;32m      2\u001b[0m         \u001b[0msentences\u001b[0m \u001b[0;34m=\u001b[0m \u001b[0mfile\u001b[0m\u001b[0;34m.\u001b[0m\u001b[0mreadlines\u001b[0m\u001b[0;34m(\u001b[0m\u001b[0;34m)\u001b[0m\u001b[0;34m\u001b[0m\u001b[0;34m\u001b[0m\u001b[0m\n\u001b[1;32m      3\u001b[0m \u001b[0mprint\u001b[0m\u001b[0;34m(\u001b[0m\u001b[0mlen\u001b[0m\u001b[0;34m(\u001b[0m\u001b[0msentences\u001b[0m\u001b[0;34m)\u001b[0m\u001b[0;34m)\u001b[0m\u001b[0;34m\u001b[0m\u001b[0;34m\u001b[0m\u001b[0m\n\u001b[0;32m----> 4\u001b[0;31m \u001b[0mmodel\u001b[0m \u001b[0;34m=\u001b[0m \u001b[0mspacy\u001b[0m\u001b[0;34m.\u001b[0m\u001b[0mload\u001b[0m\u001b[0;34m(\u001b[0m\u001b[0;34m'en_core_web_sm'\u001b[0m\u001b[0;34m)\u001b[0m\u001b[0;34m\u001b[0m\u001b[0;34m\u001b[0m\u001b[0m\n\u001b[0m",
      "\u001b[0;32m~/opt/anaconda3/envs/tf/lib/python3.7/site-packages/spacy/__init__.py\u001b[0m in \u001b[0;36mload\u001b[0;34m(name, disable, exclude, config)\u001b[0m\n\u001b[1;32m     45\u001b[0m     \u001b[0mRETURNS\u001b[0m \u001b[0;34m(\u001b[0m\u001b[0mLanguage\u001b[0m\u001b[0;34m)\u001b[0m\u001b[0;34m:\u001b[0m \u001b[0mThe\u001b[0m \u001b[0mloaded\u001b[0m \u001b[0mnlp\u001b[0m \u001b[0mobject\u001b[0m\u001b[0;34m.\u001b[0m\u001b[0;34m\u001b[0m\u001b[0;34m\u001b[0m\u001b[0m\n\u001b[1;32m     46\u001b[0m     \"\"\"\n\u001b[0;32m---> 47\u001b[0;31m     \u001b[0;32mreturn\u001b[0m \u001b[0mutil\u001b[0m\u001b[0;34m.\u001b[0m\u001b[0mload_model\u001b[0m\u001b[0;34m(\u001b[0m\u001b[0mname\u001b[0m\u001b[0;34m,\u001b[0m \u001b[0mdisable\u001b[0m\u001b[0;34m=\u001b[0m\u001b[0mdisable\u001b[0m\u001b[0;34m,\u001b[0m \u001b[0mexclude\u001b[0m\u001b[0;34m=\u001b[0m\u001b[0mexclude\u001b[0m\u001b[0;34m,\u001b[0m \u001b[0mconfig\u001b[0m\u001b[0;34m=\u001b[0m\u001b[0mconfig\u001b[0m\u001b[0;34m)\u001b[0m\u001b[0;34m\u001b[0m\u001b[0;34m\u001b[0m\u001b[0m\n\u001b[0m\u001b[1;32m     48\u001b[0m \u001b[0;34m\u001b[0m\u001b[0m\n\u001b[1;32m     49\u001b[0m \u001b[0;34m\u001b[0m\u001b[0m\n",
      "\u001b[0;32m~/opt/anaconda3/envs/tf/lib/python3.7/site-packages/spacy/util.py\u001b[0m in \u001b[0;36mload_model\u001b[0;34m(name, vocab, disable, exclude, config)\u001b[0m\n\u001b[1;32m    327\u001b[0m     \u001b[0;32mif\u001b[0m \u001b[0mname\u001b[0m \u001b[0;32min\u001b[0m \u001b[0mOLD_MODEL_SHORTCUTS\u001b[0m\u001b[0;34m:\u001b[0m\u001b[0;34m\u001b[0m\u001b[0;34m\u001b[0m\u001b[0m\n\u001b[1;32m    328\u001b[0m         \u001b[0;32mraise\u001b[0m \u001b[0mIOError\u001b[0m\u001b[0;34m(\u001b[0m\u001b[0mErrors\u001b[0m\u001b[0;34m.\u001b[0m\u001b[0mE941\u001b[0m\u001b[0;34m.\u001b[0m\u001b[0mformat\u001b[0m\u001b[0;34m(\u001b[0m\u001b[0mname\u001b[0m\u001b[0;34m=\u001b[0m\u001b[0mname\u001b[0m\u001b[0;34m,\u001b[0m \u001b[0mfull\u001b[0m\u001b[0;34m=\u001b[0m\u001b[0mOLD_MODEL_SHORTCUTS\u001b[0m\u001b[0;34m[\u001b[0m\u001b[0mname\u001b[0m\u001b[0;34m]\u001b[0m\u001b[0;34m)\u001b[0m\u001b[0;34m)\u001b[0m\u001b[0;34m\u001b[0m\u001b[0;34m\u001b[0m\u001b[0m\n\u001b[0;32m--> 329\u001b[0;31m     \u001b[0;32mraise\u001b[0m \u001b[0mIOError\u001b[0m\u001b[0;34m(\u001b[0m\u001b[0mErrors\u001b[0m\u001b[0;34m.\u001b[0m\u001b[0mE050\u001b[0m\u001b[0;34m.\u001b[0m\u001b[0mformat\u001b[0m\u001b[0;34m(\u001b[0m\u001b[0mname\u001b[0m\u001b[0;34m=\u001b[0m\u001b[0mname\u001b[0m\u001b[0;34m)\u001b[0m\u001b[0;34m)\u001b[0m\u001b[0;34m\u001b[0m\u001b[0;34m\u001b[0m\u001b[0m\n\u001b[0m\u001b[1;32m    330\u001b[0m \u001b[0;34m\u001b[0m\u001b[0m\n\u001b[1;32m    331\u001b[0m \u001b[0;34m\u001b[0m\u001b[0m\n",
      "\u001b[0;31mOSError\u001b[0m: [E050] Can't find model 'en_core_web_sm'. It doesn't seem to be a Python package or a valid path to a data directory."
     ]
    }
   ],
   "source": [
    "with open('reddit_sarcasm.txt') as file:\n",
    "        sentences = file.readlines()\n",
    "print(len(sentences))\n",
    "model = spacy.load('en_core_web_sm')"
   ]
  },
  {
   "cell_type": "code",
   "execution_count": 3,
   "metadata": {},
   "outputs": [],
   "source": [
    "doc = model(''.join(sentences[:100]))\n",
    "for v in model.vocab:\n",
    "    v.is_stop = False\n",
    "stop_words_set = set()\n",
    "with open('StopWords.txt') as file:\n",
    "    stop_words = file.readlines()\n",
    "    for stop_word in stop_words:\n",
    "        stop_words_set.add(stop_word[:-1])"
   ]
  },
  {
   "cell_type": "code",
   "execution_count": 4,
   "metadata": {
    "tags": []
   },
   "outputs": [],
   "source": [
    "# Getting general information about the corpus\n",
    "pos_stat = {}\n",
    "pos_no_punc = {}\n",
    "pos_no_stop = {}\n",
    "pos_no_punc_stop = {}                \n",
    "word_stat = {}             \n",
    "word_no_punc = {}\n",
    "word_no_stop = {}\n",
    "word_no_punc_stop = {}\n",
    "hehe = None\n",
    "for token in doc:\n",
    "    if not token.lemma_ in stop_words_set:\n",
    "        word_no_stop[token.text] = word_no_stop.get(token.text, 0) + 1\n",
    "        pos_no_stop[token.pos_] = pos_no_stop.get(token.pos_, 0) + 1\n",
    "        if token.pos_ != \"PUNCT\":\n",
    "            word_no_punc_stop[token.text] = word_no_punc_stop.get(token.text, 0) + 1\n",
    "            pos_no_punc_stop[token.pos_] = pos_no_punc_stop.get(token.pos_, 0) + 1\n",
    "    if token.pos_ != 'PUNCT':\n",
    "        word_no_punc[token.text] = word_no_punc.get(token.text, 0) + 1\n",
    "        pos_no_punc[token.pos_] = pos_no_punc.get(token.pos_, 0) + 1\n",
    "    word_stat[token.text] = word_stat.get(token.text, 0) + 1\n",
    "    pos_stat[token.pos_] = pos_stat.get(token.pos_, 0) + 1"
   ]
  },
  {
   "cell_type": "code",
   "execution_count": 5,
   "metadata": {},
   "outputs": [
    {
     "name": "stdout",
     "output_type": "stream",
     "text": [
      "# of tokens: \n",
      "1270\n",
      "# of types: \n",
      "18\n",
      "Type/token ratio: \n",
      "0.013492063492063493\n",
      "Tokens appeared only once: \n",
      "911\n",
      "# of words (excluding punctuation): \n",
      "1260\n",
      "List the top 3 most frequent words and their frequencies: \n",
      "Yeah,argument,At,\n",
      "Type/token ratio (excluding punctuation and stopwords): \n",
      "0.015337423312883436\n",
      "List the top 3 most frequent words and their frequencies (excluding stopwords)\n",
      "Yeah,argument,prefer,"
     ]
    }
   ],
   "source": [
    "print(\"# of tokens: \")\n",
    "print(len(word_stat))\n",
    "print(\"# of types: \")\n",
    "print(len(pos_stat))\n",
    "print(\"Type/token ratio: \")\n",
    "print(len(pos_no_punc) / len(word_no_punc))\n",
    "print(\"Tokens appeared only once: \")\n",
    "num_singleton = 0\n",
    "for k, v in word_stat.items():\n",
    "    if v == 1:\n",
    "        num_singleton += 1\n",
    "print(num_singleton)\n",
    "print(\"# of words (excluding punctuation): \")\n",
    "print(len(word_no_punc))\n",
    "print('List the top 3 most frequent words and their frequencies: ')\n",
    "sorted_word_stat = sorted(word_stat.items(), key=lambda x:x[1])\n",
    "for k, v in sorted_word_stat[:3]:\n",
    "    print(k, end=',')\n",
    "print()\n",
    "print('Type/token ratio (excluding punctuation and stopwords): ')\n",
    "print(len(pos_no_punc_stop) / len(word_no_punc_stop))\n",
    "print('List the top 3 most frequent words and their frequencies (excluding stopwords)')\n",
    "sorted_word_no_stop = sorted(word_no_stop.items(), key=lambda x:x[1])\n",
    "for k, v in sorted_word_no_stop[:3]:\n",
    "    print(k, end=',')"
   ]
  },
  {
   "cell_type": "code",
   "execution_count": null,
   "metadata": {},
   "outputs": [],
   "source": []
  }
 ],
 "metadata": {
  "kernelspec": {
   "display_name": "Python 3",
   "language": "python",
   "name": "python3"
  },
  "language_info": {
   "codemirror_mode": {
    "name": "ipython",
    "version": 3
   },
   "file_extension": ".py",
   "mimetype": "text/x-python",
   "name": "python",
   "nbconvert_exporter": "python",
   "pygments_lexer": "ipython3",
   "version": "3.7.7"
  }
 },
 "nbformat": 4,
 "nbformat_minor": 4
}
